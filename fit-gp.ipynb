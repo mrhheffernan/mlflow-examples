{
 "cells": [
  {
   "cell_type": "markdown",
   "id": "b2b0085b",
   "metadata": {},
   "source": [
    "# Fit a Gaussian Process and store it in MLFlow"
   ]
  },
  {
   "cell_type": "code",
   "execution_count": 1,
   "id": "0b9433de",
   "metadata": {},
   "outputs": [
    {
     "data": {
      "text/plain": [
       "<Experiment: artifact_location='mlflow-artifacts:/0', creation_time=1708732941708, experiment_id='0', last_update_time=1708732941708, lifecycle_stage='active', name='Default', tags={}>"
      ]
     },
     "execution_count": 1,
     "metadata": {},
     "output_type": "execute_result"
    }
   ],
   "source": [
    "# MLFlow setup\n",
    "\n",
    "import mlflow\n",
    "\n",
    "# Manually specify this uri when launching the server in $HOME with mlflow ui --port 8080\n",
    "# Setting the tracking uri to the one launched from home will prevent a new mlflow instance in each directory\n",
    "mlflow.set_tracking_uri(\"http://127.0.0.1:8080\")\n",
    "client = mlflow.MlflowClient()\n",
    "\n",
    "# Search for the experiment we want to be working in, which will be sandbox as we play around\n",
    "experiment_list = client.search_experiments(filter_string=\"name = 'Default'\")\n",
    "experiment_id = experiment_list[0].experiment_id\n",
    "mlflow.set_experiment(experiment_id=experiment_id)"
   ]
  },
  {
   "cell_type": "markdown",
   "id": "26eb1b3c",
   "metadata": {},
   "source": [
    "## Now go ahead and mess around"
   ]
  },
  {
   "cell_type": "code",
   "execution_count": 2,
   "id": "41c07cd4",
   "metadata": {},
   "outputs": [
    {
     "name": "stderr",
     "output_type": "stream",
     "text": [
      "2024/02/23 16:08:16 INFO mlflow.tracking.fluent: Autologging successfully enabled for sklearn.\n"
     ]
    }
   ],
   "source": [
    "import numpy as np\n",
    "from sklearn.datasets import make_friedman2\n",
    "from sklearn.gaussian_process import GaussianProcessRegressor\n",
    "from sklearn.gaussian_process.kernels import DotProduct, WhiteKernel\n",
    "\n",
    "mlflow.autolog()"
   ]
  },
  {
   "cell_type": "code",
   "execution_count": 3,
   "id": "654e0071",
   "metadata": {},
   "outputs": [],
   "source": [
    "X, y = make_friedman2(n_samples=500, noise=0, random_state=0)"
   ]
  },
  {
   "cell_type": "code",
   "execution_count": 11,
   "id": "93a213c9",
   "metadata": {},
   "outputs": [
    {
     "name": "stderr",
     "output_type": "stream",
     "text": [
      "/opt/homebrew/lib/python3.11/site-packages/sklearn/gaussian_process/kernels.py:434: ConvergenceWarning: The optimal value found for dimension 0 of parameter k2__noise_level is close to the specified upper bound 100000.0. Increasing the bound and calling fit again may find a better value.\n",
      "  warnings.warn(\n"
     ]
    }
   ],
   "source": [
    "kernel = DotProduct() + WhiteKernel()\n",
    "gpr = GaussianProcessRegressor(\n",
    "    kernel=kernel, random_state=0, n_restarts_optimizer=10\n",
    ").fit(X, y)"
   ]
  },
  {
   "cell_type": "markdown",
   "id": "0ea197bd",
   "metadata": {},
   "source": [
    "And with that, we've got an mlflow experiment tracked and set up with very few actual steps required of us! Which is great."
   ]
  },
  {
   "cell_type": "code",
   "execution_count": 12,
   "id": "fbbaf194",
   "metadata": {},
   "outputs": [
    {
     "name": "stderr",
     "output_type": "stream",
     "text": [
      "Registered model 'friedman2-gp' already exists. Creating a new version of this model...\n",
      "2024/02/23 16:12:59 INFO mlflow.store.model_registry.abstract_store: Waiting up to 300 seconds for model version to finish creation. Model name: friedman2-gp, version 2\n",
      "Created version '2' of model 'friedman2-gp'.\n"
     ]
    },
    {
     "data": {
      "text/plain": [
       "<mlflow.models.model.ModelInfo at 0x2803acb90>"
      ]
     },
     "execution_count": 12,
     "metadata": {},
     "output_type": "execute_result"
    }
   ],
   "source": [
    "mlflow.sklearn.log_model(\n",
    "    sk_model=gpr,\n",
    "    artifact_path=\"gp-model\",\n",
    "    signature=mlflow.models.infer_signature(X, y),\n",
    "    registered_model_name=\"friedman2-gp\",\n",
    ")"
   ]
  },
  {
   "cell_type": "code",
   "execution_count": 13,
   "id": "7835eda7",
   "metadata": {},
   "outputs": [],
   "source": [
    "model = client.get_registered_model(\"friedman2-gp\")"
   ]
  },
  {
   "cell_type": "code",
   "execution_count": 14,
   "id": "8fb3241f",
   "metadata": {},
   "outputs": [
    {
     "data": {
      "text/plain": [
       "name: \"friedman2-gp\"\n",
       "creation_timestamp: 1708733330652\n",
       "last_updated_timestamp: 1708733579591\n",
       "latest_versions {\n",
       "  name: \"friedman2-gp\"\n",
       "  version: \"2\"\n",
       "  creation_timestamp: 1708733579591\n",
       "  last_updated_timestamp: 1708733579591\n",
       "  user_id: \"\"\n",
       "  current_stage: \"None\"\n",
       "  description: \"\"\n",
       "  source: \"mlflow-artifacts:/0/11a1f33e8ad549b98ec5edc025b51f6a/artifacts/gp-model\"\n",
       "  run_id: \"11a1f33e8ad549b98ec5edc025b51f6a\"\n",
       "  status: READY\n",
       "  run_link: \"\"\n",
       "}"
      ]
     },
     "execution_count": 14,
     "metadata": {},
     "output_type": "execute_result"
    }
   ],
   "source": [
    "model.to_proto()"
   ]
  },
  {
   "cell_type": "code",
   "execution_count": 8,
   "id": "4ea5fc6f",
   "metadata": {},
   "outputs": [],
   "source": [
    "model_uri = f\"models:/{model.name}/{model.latest_versions[0].version}\""
   ]
  },
  {
   "cell_type": "code",
   "execution_count": 9,
   "id": "d6311fd3",
   "metadata": {},
   "outputs": [
    {
     "data": {
      "application/vnd.jupyter.widget-view+json": {
       "model_id": "6f3f1d1ba1dd46358532e5c819495c1a",
       "version_major": 2,
       "version_minor": 0
      },
      "text/plain": [
       "Downloading artifacts:   0%|          | 0/5 [00:00<?, ?it/s]"
      ]
     },
     "metadata": {},
     "output_type": "display_data"
    }
   ],
   "source": [
    "gp_model = mlflow.sklearn.load_model(model_uri)"
   ]
  },
  {
   "cell_type": "code",
   "execution_count": 10,
   "id": "0c07dab0",
   "metadata": {},
   "outputs": [
    {
     "data": {
      "text/plain": [
       "0.3680293861017293"
      ]
     },
     "execution_count": 10,
     "metadata": {},
     "output_type": "execute_result"
    }
   ],
   "source": [
    "gp_model.score(X, y)"
   ]
  },
  {
   "cell_type": "markdown",
   "id": "b9ad21a0",
   "metadata": {},
   "source": [
    "Okay, now we can go the whole round trip and return the model from mlflow if we wanted to. This is great! Rather than store these things and hope that the log messages are sufficient, we can store all the prototyping models places and track the various information. \n",
    "\n",
    "This also has obvious relation to my old physics stuff since all the GP fitting could be tracked and logged more appropriately. "
   ]
  },
  {
   "cell_type": "markdown",
   "id": "c69df4a0",
   "metadata": {},
   "source": [
    "The piece I obviously haven't practiced here is to use a database as the backend for mlflow, but that requires setting up a database for a fairly naive set of uses. For the analyses I do from now on, I should try to use mlflow to track just to keep a nice record of things."
   ]
  },
  {
   "cell_type": "code",
   "execution_count": null,
   "id": "e77b3e82",
   "metadata": {},
   "outputs": [],
   "source": []
  }
 ],
 "metadata": {
  "kernelspec": {
   "display_name": "Python 3 (ipykernel)",
   "language": "python",
   "name": "python3"
  },
  "language_info": {
   "codemirror_mode": {
    "name": "ipython",
    "version": 3
   },
   "file_extension": ".py",
   "mimetype": "text/x-python",
   "name": "python",
   "nbconvert_exporter": "python",
   "pygments_lexer": "ipython3",
   "version": "3.11.7"
  }
 },
 "nbformat": 4,
 "nbformat_minor": 5
}
